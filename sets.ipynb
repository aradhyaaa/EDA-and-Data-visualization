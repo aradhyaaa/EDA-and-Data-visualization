{
 "cells": [
  {
   "cell_type": "code",
   "execution_count": 2,
   "metadata": {},
   "outputs": [
    {
     "name": "stdout",
     "output_type": "stream",
     "text": [
      "{'noida', 'ghaziabad'}\n",
      "{'kolkata', 'bombay'}\n"
     ]
    }
   ],
   "source": [
    "#sets are mutable ,unorders and unindexed and only hold unique values\n",
    "ncr = {\"noida\",\"ghaziabad\"} \n",
    "print(ncr)\n",
    "\n",
    "cities = {\"bombay\",\"kolkata\"}\n",
    "print(cities)"
   ]
  },
  {
   "cell_type": "code",
   "execution_count": 3,
   "metadata": {},
   "outputs": [
    {
     "name": "stdout",
     "output_type": "stream",
     "text": [
      "{'New Delhi', 'noida', 'ghaziabad'}\n",
      "{'bombay'}\n"
     ]
    }
   ],
   "source": [
    "ncr.add(\"New Delhi\")\n",
    "print(ncr)\n",
    "\n",
    "cities.remove(\"kolkata\")\n",
    "print(cities)"
   ]
  },
  {
   "cell_type": "code",
   "execution_count": 7,
   "metadata": {},
   "outputs": [
    {
     "name": "stdout",
     "output_type": "stream",
     "text": [
      "{'New Delhi', 'noida', 'ghaziabad', 'bombay'}\n",
      "set()\n",
      "{'New Delhi', 'noida', 'ghaziabad'}\n"
     ]
    }
   ],
   "source": [
    "#union\n",
    "\n",
    "indian_cities = ncr.union(cities)\n",
    "print(indian_cities)\n",
    "\n",
    "#intersection\n",
    "not_cities = ncr.intersection(cities)\n",
    "print(not_cities)\n",
    "\n",
    "x = ncr.intersection(indian_cities)\n",
    "print(x)"
   ]
  },
  {
   "cell_type": "code",
   "execution_count": null,
   "metadata": {},
   "outputs": [],
   "source": []
  }
 ],
 "metadata": {
  "kernelspec": {
   "display_name": "Python 3",
   "language": "python",
   "name": "python3"
  },
  "language_info": {
   "codemirror_mode": {
    "name": "ipython",
    "version": 3
   },
   "file_extension": ".py",
   "mimetype": "text/x-python",
   "name": "python",
   "nbconvert_exporter": "python",
   "pygments_lexer": "ipython3",
   "version": "3.11.4"
  }
 },
 "nbformat": 4,
 "nbformat_minor": 2
}
