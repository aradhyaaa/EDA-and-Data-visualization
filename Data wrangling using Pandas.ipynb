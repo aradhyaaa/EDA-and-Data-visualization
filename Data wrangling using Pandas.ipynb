{
 "cells": [
  {
   "cell_type": "markdown",
   "id": "4af43d39",
   "metadata": {},
   "source": [
    "#   Assignment 2 Data wrangling using Pandas"
   ]
  },
  {
   "cell_type": "code",
   "execution_count": 1,
   "id": "2c8ed762",
   "metadata": {},
   "outputs": [],
   "source": [
    "import numpy as np\n",
    "import pandas as pd"
   ]
  },
  {
   "cell_type": "markdown",
   "id": "c37bd86b",
   "metadata": {},
   "source": [
    "# 1. Write a regular expression to convert the data in a structured o/p (sample o/p shown below) \n",
    "#Use this regular expression to read the data using pandas read_csv function."
   ]
  },
  {
   "cell_type": "code",
   "execution_count": 2,
   "id": "d323be8a",
   "metadata": {},
   "outputs": [
    {
     "data": {
      "text/html": [
       "<div>\n",
       "<style scoped>\n",
       "    .dataframe tbody tr th:only-of-type {\n",
       "        vertical-align: middle;\n",
       "    }\n",
       "\n",
       "    .dataframe tbody tr th {\n",
       "        vertical-align: top;\n",
       "    }\n",
       "\n",
       "    .dataframe thead th {\n",
       "        text-align: right;\n",
       "    }\n",
       "</style>\n",
       "<table border=\"1\" class=\"dataframe\">\n",
       "  <thead>\n",
       "    <tr style=\"text-align: right;\">\n",
       "      <th></th>\n",
       "      <th>0</th>\n",
       "      <th>1</th>\n",
       "      <th>2</th>\n",
       "      <th>3</th>\n",
       "      <th>4</th>\n",
       "      <th>5</th>\n",
       "      <th>6</th>\n",
       "      <th>7</th>\n",
       "    </tr>\n",
       "  </thead>\n",
       "  <tbody>\n",
       "    <tr>\n",
       "      <th>0</th>\n",
       "      <td>199.72.81.55</td>\n",
       "      <td>-</td>\n",
       "      <td>-</td>\n",
       "      <td>[01/Jul/1995:00:00:01</td>\n",
       "      <td>-0400]</td>\n",
       "      <td>GET /history/apollo/ HTTP/1.0</td>\n",
       "      <td>200</td>\n",
       "      <td>6245</td>\n",
       "    </tr>\n",
       "    <tr>\n",
       "      <th>1</th>\n",
       "      <td>unicomp6.unicomp.net</td>\n",
       "      <td>-</td>\n",
       "      <td>-</td>\n",
       "      <td>[01/Jul/1995:00:00:06</td>\n",
       "      <td>-0400]</td>\n",
       "      <td>GET /shuttle/countdown/ HTTP/1.0</td>\n",
       "      <td>200</td>\n",
       "      <td>3985</td>\n",
       "    </tr>\n",
       "    <tr>\n",
       "      <th>2</th>\n",
       "      <td>199.120.110.21</td>\n",
       "      <td>-</td>\n",
       "      <td>-</td>\n",
       "      <td>[01/Jul/1995:00:00:09</td>\n",
       "      <td>-0400]</td>\n",
       "      <td>GET /shuttle/missions/sts-73/mission-sts-73.ht...</td>\n",
       "      <td>200</td>\n",
       "      <td>4085</td>\n",
       "    </tr>\n",
       "    <tr>\n",
       "      <th>3</th>\n",
       "      <td>burger.letters.com</td>\n",
       "      <td>-</td>\n",
       "      <td>-</td>\n",
       "      <td>[01/Jul/1995:00:00:11</td>\n",
       "      <td>-0400]</td>\n",
       "      <td>GET /shuttle/countdown/liftoff.html HTTP/1.0</td>\n",
       "      <td>304</td>\n",
       "      <td>0</td>\n",
       "    </tr>\n",
       "    <tr>\n",
       "      <th>4</th>\n",
       "      <td>199.120.110.21</td>\n",
       "      <td>-</td>\n",
       "      <td>-</td>\n",
       "      <td>[01/Jul/1995:00:00:11</td>\n",
       "      <td>-0400]</td>\n",
       "      <td>GET /shuttle/missions/sts-73/sts-73-patch-smal...</td>\n",
       "      <td>200</td>\n",
       "      <td>4179</td>\n",
       "    </tr>\n",
       "  </tbody>\n",
       "</table>\n",
       "</div>"
      ],
      "text/plain": [
       "                      0  1  2                      3       4  \\\n",
       "0          199.72.81.55  -  -  [01/Jul/1995:00:00:01  -0400]   \n",
       "1  unicomp6.unicomp.net  -  -  [01/Jul/1995:00:00:06  -0400]   \n",
       "2        199.120.110.21  -  -  [01/Jul/1995:00:00:09  -0400]   \n",
       "3    burger.letters.com  -  -  [01/Jul/1995:00:00:11  -0400]   \n",
       "4        199.120.110.21  -  -  [01/Jul/1995:00:00:11  -0400]   \n",
       "\n",
       "                                                   5    6     7  \n",
       "0                      GET /history/apollo/ HTTP/1.0  200  6245  \n",
       "1                   GET /shuttle/countdown/ HTTP/1.0  200  3985  \n",
       "2  GET /shuttle/missions/sts-73/mission-sts-73.ht...  200  4085  \n",
       "3       GET /shuttle/countdown/liftoff.html HTTP/1.0  304     0  \n",
       "4  GET /shuttle/missions/sts-73/sts-73-patch-smal...  200  4179  "
      ]
     },
     "execution_count": 2,
     "metadata": {},
     "output_type": "execute_result"
    }
   ],
   "source": [
    "data = pd.read_csv('access_log_Jul95.txt', sep=\" \", header=None)\n",
    "data.head(5)"
   ]
  },
  {
   "cell_type": "code",
   "execution_count": 3,
   "id": "02661f88",
   "metadata": {},
   "outputs": [
    {
     "data": {
      "text/html": [
       "<div>\n",
       "<style scoped>\n",
       "    .dataframe tbody tr th:only-of-type {\n",
       "        vertical-align: middle;\n",
       "    }\n",
       "\n",
       "    .dataframe tbody tr th {\n",
       "        vertical-align: top;\n",
       "    }\n",
       "\n",
       "    .dataframe thead th {\n",
       "        text-align: right;\n",
       "    }\n",
       "</style>\n",
       "<table border=\"1\" class=\"dataframe\">\n",
       "  <thead>\n",
       "    <tr style=\"text-align: right;\">\n",
       "      <th></th>\n",
       "      <th>host</th>\n",
       "      <th>time</th>\n",
       "      <th>request_type</th>\n",
       "      <th>url</th>\n",
       "      <th>response</th>\n",
       "      <th>size</th>\n",
       "    </tr>\n",
       "  </thead>\n",
       "  <tbody>\n",
       "    <tr>\n",
       "      <th>0</th>\n",
       "      <td>199.72.81.55</td>\n",
       "      <td>01/Jul/1995:00:00:01</td>\n",
       "      <td>GET</td>\n",
       "      <td>/history/apollo/ HTTP/1.0</td>\n",
       "      <td>200</td>\n",
       "      <td>6245</td>\n",
       "    </tr>\n",
       "    <tr>\n",
       "      <th>1</th>\n",
       "      <td>unicomp6.unicomp.net</td>\n",
       "      <td>01/Jul/1995:00:00:06</td>\n",
       "      <td>GET</td>\n",
       "      <td>/shuttle/countdown/ HTTP/1.0</td>\n",
       "      <td>200</td>\n",
       "      <td>3985</td>\n",
       "    </tr>\n",
       "    <tr>\n",
       "      <th>2</th>\n",
       "      <td>199.120.110.21</td>\n",
       "      <td>01/Jul/1995:00:00:09</td>\n",
       "      <td>GET</td>\n",
       "      <td>/shuttle/missions/sts-73/mission-sts-73.html H...</td>\n",
       "      <td>200</td>\n",
       "      <td>4085</td>\n",
       "    </tr>\n",
       "    <tr>\n",
       "      <th>3</th>\n",
       "      <td>burger.letters.com</td>\n",
       "      <td>01/Jul/1995:00:00:11</td>\n",
       "      <td>GET</td>\n",
       "      <td>/shuttle/countdown/liftoff.html HTTP/1.0</td>\n",
       "      <td>304</td>\n",
       "      <td>0</td>\n",
       "    </tr>\n",
       "    <tr>\n",
       "      <th>4</th>\n",
       "      <td>199.120.110.21</td>\n",
       "      <td>01/Jul/1995:00:00:11</td>\n",
       "      <td>GET</td>\n",
       "      <td>/shuttle/missions/sts-73/sts-73-patch-small.gi...</td>\n",
       "      <td>200</td>\n",
       "      <td>4179</td>\n",
       "    </tr>\n",
       "  </tbody>\n",
       "</table>\n",
       "</div>"
      ],
      "text/plain": [
       "                   host                  time request_type  \\\n",
       "0          199.72.81.55  01/Jul/1995:00:00:01          GET   \n",
       "1  unicomp6.unicomp.net  01/Jul/1995:00:00:06          GET   \n",
       "2        199.120.110.21  01/Jul/1995:00:00:09          GET   \n",
       "3    burger.letters.com  01/Jul/1995:00:00:11          GET   \n",
       "4        199.120.110.21  01/Jul/1995:00:00:11          GET   \n",
       "\n",
       "                                                 url  response  size  \n",
       "0                          /history/apollo/ HTTP/1.0       200  6245  \n",
       "1                       /shuttle/countdown/ HTTP/1.0       200  3985  \n",
       "2  /shuttle/missions/sts-73/mission-sts-73.html H...       200  4085  \n",
       "3           /shuttle/countdown/liftoff.html HTTP/1.0       304     0  \n",
       "4  /shuttle/missions/sts-73/sts-73-patch-small.gi...       200  4179  "
      ]
     },
     "execution_count": 3,
     "metadata": {},
     "output_type": "execute_result"
    }
   ],
   "source": [
    "#If required that you ignore blank columns Manually label the columns as shown in the sample output below\n",
    "#replace [ in timestamp\n",
    "data[3] = data[3].str.replace('[','',regex=True)\n",
    "#drop extra columns\n",
    "data.drop(data.columns[[1,2,4]],axis=1,inplace=True)\n",
    "#rename column names\n",
    "data.columns = [\"host\", \"time\", \"request_type\", \"response\",\"size\"]\n",
    "#split by first space only\n",
    "data[['request_type','url']] = data['request_type'].str.split(' ',n=1,expand=True)\n",
    "#rearrange columns\n",
    "data = data[[\"host\", \"time\", \"request_type\", \"url\", \"response\",\"size\"]]\n",
    "data.head(5)"
   ]
  },
  {
   "cell_type": "markdown",
   "id": "eceec7ba",
   "metadata": {},
   "source": [
    "# 2.Identify number of requests for each hour and plot the same using line plot. Use the following instructions \n",
    "#Convert the data type of time column to datetime using pd.to_datetime() with appropriate time  format "
   ]
  },
  {
   "cell_type": "code",
   "execution_count": 4,
   "id": "ddd15043",
   "metadata": {},
   "outputs": [
    {
     "name": "stdout",
     "output_type": "stream",
     "text": [
      "<class 'pandas.core.frame.DataFrame'>\n",
      "RangeIndex: 91714 entries, 0 to 91713\n",
      "Data columns (total 6 columns):\n",
      " #   Column        Non-Null Count  Dtype         \n",
      "---  ------        --------------  -----         \n",
      " 0   host          91714 non-null  object        \n",
      " 1   time          91714 non-null  datetime64[ns]\n",
      " 2   request_type  91714 non-null  object        \n",
      " 3   url           91714 non-null  object        \n",
      " 4   response      91714 non-null  int64         \n",
      " 5   size          91714 non-null  object        \n",
      "dtypes: datetime64[ns](1), int64(1), object(4)\n",
      "memory usage: 4.2+ MB\n"
     ]
    }
   ],
   "source": [
    "data['time'] =  pd.to_datetime(data['time'], format='%d/%b/%Y:%H:%M:%S')\n",
    "data.info()"
   ]
  },
  {
   "cell_type": "code",
   "execution_count": 5,
   "id": "e43acb14",
   "metadata": {},
   "outputs": [
    {
     "data": {
      "text/html": [
       "<div>\n",
       "<style scoped>\n",
       "    .dataframe tbody tr th:only-of-type {\n",
       "        vertical-align: middle;\n",
       "    }\n",
       "\n",
       "    .dataframe tbody tr th {\n",
       "        vertical-align: top;\n",
       "    }\n",
       "\n",
       "    .dataframe thead th {\n",
       "        text-align: right;\n",
       "    }\n",
       "</style>\n",
       "<table border=\"1\" class=\"dataframe\">\n",
       "  <thead>\n",
       "    <tr style=\"text-align: right;\">\n",
       "      <th></th>\n",
       "      <th>host</th>\n",
       "      <th>time</th>\n",
       "      <th>request_type</th>\n",
       "      <th>url</th>\n",
       "      <th>response</th>\n",
       "      <th>size</th>\n",
       "    </tr>\n",
       "  </thead>\n",
       "  <tbody>\n",
       "    <tr>\n",
       "      <th>0</th>\n",
       "      <td>199.72.81.55</td>\n",
       "      <td>1995-07-01 00:00:01</td>\n",
       "      <td>GET</td>\n",
       "      <td>/history/apollo/ HTTP/1.0</td>\n",
       "      <td>200</td>\n",
       "      <td>6245</td>\n",
       "    </tr>\n",
       "    <tr>\n",
       "      <th>1</th>\n",
       "      <td>unicomp6.unicomp.net</td>\n",
       "      <td>1995-07-01 00:00:06</td>\n",
       "      <td>GET</td>\n",
       "      <td>/shuttle/countdown/ HTTP/1.0</td>\n",
       "      <td>200</td>\n",
       "      <td>3985</td>\n",
       "    </tr>\n",
       "    <tr>\n",
       "      <th>2</th>\n",
       "      <td>199.120.110.21</td>\n",
       "      <td>1995-07-01 00:00:09</td>\n",
       "      <td>GET</td>\n",
       "      <td>/shuttle/missions/sts-73/mission-sts-73.html H...</td>\n",
       "      <td>200</td>\n",
       "      <td>4085</td>\n",
       "    </tr>\n",
       "    <tr>\n",
       "      <th>3</th>\n",
       "      <td>burger.letters.com</td>\n",
       "      <td>1995-07-01 00:00:11</td>\n",
       "      <td>GET</td>\n",
       "      <td>/shuttle/countdown/liftoff.html HTTP/1.0</td>\n",
       "      <td>304</td>\n",
       "      <td>0</td>\n",
       "    </tr>\n",
       "    <tr>\n",
       "      <th>4</th>\n",
       "      <td>199.120.110.21</td>\n",
       "      <td>1995-07-01 00:00:11</td>\n",
       "      <td>GET</td>\n",
       "      <td>/shuttle/missions/sts-73/sts-73-patch-small.gi...</td>\n",
       "      <td>200</td>\n",
       "      <td>4179</td>\n",
       "    </tr>\n",
       "  </tbody>\n",
       "</table>\n",
       "</div>"
      ],
      "text/plain": [
       "                   host                time request_type  \\\n",
       "0          199.72.81.55 1995-07-01 00:00:01          GET   \n",
       "1  unicomp6.unicomp.net 1995-07-01 00:00:06          GET   \n",
       "2        199.120.110.21 1995-07-01 00:00:09          GET   \n",
       "3    burger.letters.com 1995-07-01 00:00:11          GET   \n",
       "4        199.120.110.21 1995-07-01 00:00:11          GET   \n",
       "\n",
       "                                                 url  response  size  \n",
       "0                          /history/apollo/ HTTP/1.0       200  6245  \n",
       "1                       /shuttle/countdown/ HTTP/1.0       200  3985  \n",
       "2  /shuttle/missions/sts-73/mission-sts-73.html H...       200  4085  \n",
       "3           /shuttle/countdown/liftoff.html HTTP/1.0       304     0  \n",
       "4  /shuttle/missions/sts-73/sts-73-patch-small.gi...       200  4179  "
      ]
     },
     "execution_count": 5,
     "metadata": {},
     "output_type": "execute_result"
    }
   ],
   "source": [
    "data.head(5)"
   ]
  },
  {
   "cell_type": "code",
   "execution_count": 6,
   "id": "c2595c32",
   "metadata": {},
   "outputs": [],
   "source": [
    "#    Use resample function to identify number of requests per hour and plot the same using line plot "
   ]
  },
  {
   "cell_type": "code",
   "execution_count": 7,
   "id": "a974618b",
   "metadata": {},
   "outputs": [
    {
     "data": {
      "text/html": [
       "<div>\n",
       "<style scoped>\n",
       "    .dataframe tbody tr th:only-of-type {\n",
       "        vertical-align: middle;\n",
       "    }\n",
       "\n",
       "    .dataframe tbody tr th {\n",
       "        vertical-align: top;\n",
       "    }\n",
       "\n",
       "    .dataframe thead th {\n",
       "        text-align: right;\n",
       "    }\n",
       "</style>\n",
       "<table border=\"1\" class=\"dataframe\">\n",
       "  <thead>\n",
       "    <tr style=\"text-align: right;\">\n",
       "      <th></th>\n",
       "      <th>host</th>\n",
       "      <th>time</th>\n",
       "      <th>request_type</th>\n",
       "      <th>url</th>\n",
       "      <th>response</th>\n",
       "      <th>size</th>\n",
       "      <th>Number</th>\n",
       "    </tr>\n",
       "  </thead>\n",
       "  <tbody>\n",
       "    <tr>\n",
       "      <th>0</th>\n",
       "      <td>199.72.81.55</td>\n",
       "      <td>1995-07-01 00:00:01</td>\n",
       "      <td>GET</td>\n",
       "      <td>/history/apollo/ HTTP/1.0</td>\n",
       "      <td>200</td>\n",
       "      <td>6245</td>\n",
       "      <td>1</td>\n",
       "    </tr>\n",
       "    <tr>\n",
       "      <th>1</th>\n",
       "      <td>unicomp6.unicomp.net</td>\n",
       "      <td>1995-07-01 00:00:06</td>\n",
       "      <td>GET</td>\n",
       "      <td>/shuttle/countdown/ HTTP/1.0</td>\n",
       "      <td>200</td>\n",
       "      <td>3985</td>\n",
       "      <td>1</td>\n",
       "    </tr>\n",
       "    <tr>\n",
       "      <th>2</th>\n",
       "      <td>199.120.110.21</td>\n",
       "      <td>1995-07-01 00:00:09</td>\n",
       "      <td>GET</td>\n",
       "      <td>/shuttle/missions/sts-73/mission-sts-73.html H...</td>\n",
       "      <td>200</td>\n",
       "      <td>4085</td>\n",
       "      <td>1</td>\n",
       "    </tr>\n",
       "    <tr>\n",
       "      <th>3</th>\n",
       "      <td>burger.letters.com</td>\n",
       "      <td>1995-07-01 00:00:11</td>\n",
       "      <td>GET</td>\n",
       "      <td>/shuttle/countdown/liftoff.html HTTP/1.0</td>\n",
       "      <td>304</td>\n",
       "      <td>0</td>\n",
       "      <td>1</td>\n",
       "    </tr>\n",
       "    <tr>\n",
       "      <th>4</th>\n",
       "      <td>199.120.110.21</td>\n",
       "      <td>1995-07-01 00:00:11</td>\n",
       "      <td>GET</td>\n",
       "      <td>/shuttle/missions/sts-73/sts-73-patch-small.gi...</td>\n",
       "      <td>200</td>\n",
       "      <td>4179</td>\n",
       "      <td>1</td>\n",
       "    </tr>\n",
       "  </tbody>\n",
       "</table>\n",
       "</div>"
      ],
      "text/plain": [
       "                   host                time request_type  \\\n",
       "0          199.72.81.55 1995-07-01 00:00:01          GET   \n",
       "1  unicomp6.unicomp.net 1995-07-01 00:00:06          GET   \n",
       "2        199.120.110.21 1995-07-01 00:00:09          GET   \n",
       "3    burger.letters.com 1995-07-01 00:00:11          GET   \n",
       "4        199.120.110.21 1995-07-01 00:00:11          GET   \n",
       "\n",
       "                                                 url  response  size  Number  \n",
       "0                          /history/apollo/ HTTP/1.0       200  6245       1  \n",
       "1                       /shuttle/countdown/ HTTP/1.0       200  3985       1  \n",
       "2  /shuttle/missions/sts-73/mission-sts-73.html H...       200  4085       1  \n",
       "3           /shuttle/countdown/liftoff.html HTTP/1.0       304     0       1  \n",
       "4  /shuttle/missions/sts-73/sts-73-patch-small.gi...       200  4179       1  "
      ]
     },
     "execution_count": 7,
     "metadata": {},
     "output_type": "execute_result"
    }
   ],
   "source": [
    "data['Number'] = 1\n",
    "data.head(5)"
   ]
  },
  {
   "cell_type": "code",
   "execution_count": 8,
   "id": "09a88965",
   "metadata": {},
   "outputs": [
    {
     "data": {
      "text/html": [
       "<div>\n",
       "<style scoped>\n",
       "    .dataframe tbody tr th:only-of-type {\n",
       "        vertical-align: middle;\n",
       "    }\n",
       "\n",
       "    .dataframe tbody tr th {\n",
       "        vertical-align: top;\n",
       "    }\n",
       "\n",
       "    .dataframe thead th {\n",
       "        text-align: right;\n",
       "    }\n",
       "</style>\n",
       "<table border=\"1\" class=\"dataframe\">\n",
       "  <thead>\n",
       "    <tr style=\"text-align: right;\">\n",
       "      <th></th>\n",
       "      <th>Number</th>\n",
       "    </tr>\n",
       "    <tr>\n",
       "      <th>time</th>\n",
       "      <th></th>\n",
       "    </tr>\n",
       "  </thead>\n",
       "  <tbody>\n",
       "    <tr>\n",
       "      <th>1995-07-01 00:00:00</th>\n",
       "      <td>3565</td>\n",
       "    </tr>\n",
       "    <tr>\n",
       "      <th>1995-07-01 01:00:00</th>\n",
       "      <td>3004</td>\n",
       "    </tr>\n",
       "    <tr>\n",
       "      <th>1995-07-01 02:00:00</th>\n",
       "      <td>2268</td>\n",
       "    </tr>\n",
       "    <tr>\n",
       "      <th>1995-07-01 03:00:00</th>\n",
       "      <td>1734</td>\n",
       "    </tr>\n",
       "    <tr>\n",
       "      <th>1995-07-01 04:00:00</th>\n",
       "      <td>1482</td>\n",
       "    </tr>\n",
       "  </tbody>\n",
       "</table>\n",
       "</div>"
      ],
      "text/plain": [
       "                     Number\n",
       "time                       \n",
       "1995-07-01 00:00:00    3565\n",
       "1995-07-01 01:00:00    3004\n",
       "1995-07-01 02:00:00    2268\n",
       "1995-07-01 03:00:00    1734\n",
       "1995-07-01 04:00:00    1482"
      ]
     },
     "execution_count": 8,
     "metadata": {},
     "output_type": "execute_result"
    }
   ],
   "source": [
    "data1 = data.resample('1H', on='time').sum()\n",
    "data1.drop('response',axis=1,inplace=True)\n",
    "data1.head(5)"
   ]
  },
  {
   "cell_type": "code",
   "execution_count": 9,
   "id": "50927c3f",
   "metadata": {},
   "outputs": [
    {
     "data": {
      "image/png": "[encoded data removed]",
      "text/plain": [
       "<Figure size 1080x576 with 1 Axes>"
      ]
     },
     "metadata": {
      "needs_background": "light"
     },
     "output_type": "display_data"
    }
   ],
   "source": [
    "import matplotlib.pyplot as plt\n",
    "plt.figure(figsize=(15,8))\n",
    "plt.plot(data1.index,data1.Number)\n",
    "plt.show()"
   ]
  },
  {
   "cell_type": "markdown",
   "id": "ca89c775",
   "metadata": {},
   "source": [
    "#    Interpret the chart and identify from which hour of the day, the number of page visits increases \n"
   ]
  },
  {
   "cell_type": "markdown",
   "id": "73ff6ff2",
   "metadata": {},
   "source": [
    "As seen from chart number of page visits start increasing in-between 7 A.M & 8 A.M."
   ]
  },
  {
   "cell_type": "markdown",
   "id": "42c66c4e",
   "metadata": {},
   "source": [
    "# 3.Identify different types of `request_type` along with their frequencies "
   ]
  },
  {
   "cell_type": "code",
   "execution_count": 10,
   "id": "9f6597ca",
   "metadata": {},
   "outputs": [
    {
     "data": {
      "text/plain": [
       "request_type\n",
       "GET     91639\n",
       "HEAD       74\n",
       "POST        1\n",
       "Name: Number, dtype: int64"
      ]
     },
     "execution_count": 10,
     "metadata": {},
     "output_type": "execute_result"
    }
   ],
   "source": [
    "data.groupby(['request_type']).sum()['Number']"
   ]
  },
  {
   "cell_type": "markdown",
   "id": "c5ca6716",
   "metadata": {},
   "source": [
    "# 4.Analyze `size` column using the following instruction \n",
    "\n",
    "#Convert `size` column to numeric (Remove special characters, if necessary)    "
   ]
  },
  {
   "cell_type": "code",
   "execution_count": 11,
   "id": "1fd771fd",
   "metadata": {},
   "outputs": [
    {
     "name": "stdout",
     "output_type": "stream",
     "text": [
      "<class 'pandas.core.frame.DataFrame'>\n",
      "RangeIndex: 91714 entries, 0 to 91713\n",
      "Data columns (total 7 columns):\n",
      " #   Column        Non-Null Count  Dtype         \n",
      "---  ------        --------------  -----         \n",
      " 0   host          91714 non-null  object        \n",
      " 1   time          91714 non-null  datetime64[ns]\n",
      " 2   request_type  91714 non-null  object        \n",
      " 3   url           91714 non-null  object        \n",
      " 4   response      91714 non-null  int64         \n",
      " 5   size          91714 non-null  object        \n",
      " 6   Number        91714 non-null  int64         \n",
      "dtypes: datetime64[ns](1), int64(2), object(4)\n",
      "memory usage: 4.9+ MB\n"
     ]
    }
   ],
   "source": [
    "data.info()"
   ]
  },
  {
   "cell_type": "code",
   "execution_count": 12,
   "id": "d02d17a1",
   "metadata": {},
   "outputs": [],
   "source": [
    "#data['size'] = data['size'].str.replace('-','',regex=True)\n",
    "#data.loc[data['size'] == '', 'size'] = 0"
   ]
  },
  {
   "cell_type": "code",
   "execution_count": 13,
   "id": "a185a356",
   "metadata": {},
   "outputs": [],
   "source": [
    "data['size'] = pd.to_numeric(data['size'],errors='coerce')"
   ]
  },
  {
   "cell_type": "code",
   "execution_count": 14,
   "id": "f6900962",
   "metadata": {},
   "outputs": [
    {
     "name": "stdout",
     "output_type": "stream",
     "text": [
      "<class 'pandas.core.frame.DataFrame'>\n",
      "RangeIndex: 91714 entries, 0 to 91713\n",
      "Data columns (total 7 columns):\n",
      " #   Column        Non-Null Count  Dtype         \n",
      "---  ------        --------------  -----         \n",
      " 0   host          91714 non-null  object        \n",
      " 1   time          91714 non-null  datetime64[ns]\n",
      " 2   request_type  91714 non-null  object        \n",
      " 3   url           91714 non-null  object        \n",
      " 4   response      91714 non-null  int64         \n",
      " 5   size          90788 non-null  float64       \n",
      " 6   Number        91714 non-null  int64         \n",
      "dtypes: datetime64[ns](1), float64(1), int64(2), object(3)\n",
      "memory usage: 4.9+ MB\n"
     ]
    }
   ],
   "source": [
    "data.info()"
   ]
  },
  {
   "cell_type": "code",
   "execution_count": 15,
   "id": "ff175e37",
   "metadata": {},
   "outputs": [],
   "source": [
    "#Using pd.cut, divide `size` column in to 10 bins. "
   ]
  },
  {
   "cell_type": "code",
   "execution_count": 16,
   "id": "d046cddf",
   "metadata": {},
   "outputs": [],
   "source": [
    "data['size_bins'] = pd.cut(x=data['size'], bins=10)"
   ]
  },
  {
   "cell_type": "code",
   "execution_count": 17,
   "id": "0691e173",
   "metadata": {},
   "outputs": [
    {
     "data": {
      "text/html": [
       "<div>\n",
       "<style scoped>\n",
       "    .dataframe tbody tr th:only-of-type {\n",
       "        vertical-align: middle;\n",
       "    }\n",
       "\n",
       "    .dataframe tbody tr th {\n",
       "        vertical-align: top;\n",
       "    }\n",
       "\n",
       "    .dataframe thead th {\n",
       "        text-align: right;\n",
       "    }\n",
       "</style>\n",
       "<table border=\"1\" class=\"dataframe\">\n",
       "  <thead>\n",
       "    <tr style=\"text-align: right;\">\n",
       "      <th></th>\n",
       "      <th>host</th>\n",
       "      <th>time</th>\n",
       "      <th>request_type</th>\n",
       "      <th>url</th>\n",
       "      <th>response</th>\n",
       "      <th>size</th>\n",
       "      <th>Number</th>\n",
       "      <th>size_bins</th>\n",
       "    </tr>\n",
       "  </thead>\n",
       "  <tbody>\n",
       "    <tr>\n",
       "      <th>0</th>\n",
       "      <td>199.72.81.55</td>\n",
       "      <td>1995-07-01 00:00:01</td>\n",
       "      <td>GET</td>\n",
       "      <td>/history/apollo/ HTTP/1.0</td>\n",
       "      <td>200</td>\n",
       "      <td>6245.0</td>\n",
       "      <td>1</td>\n",
       "      <td>(-1646.592, 164659.2]</td>\n",
       "    </tr>\n",
       "    <tr>\n",
       "      <th>1</th>\n",
       "      <td>unicomp6.unicomp.net</td>\n",
       "      <td>1995-07-01 00:00:06</td>\n",
       "      <td>GET</td>\n",
       "      <td>/shuttle/countdown/ HTTP/1.0</td>\n",
       "      <td>200</td>\n",
       "      <td>3985.0</td>\n",
       "      <td>1</td>\n",
       "      <td>(-1646.592, 164659.2]</td>\n",
       "    </tr>\n",
       "    <tr>\n",
       "      <th>2</th>\n",
       "      <td>199.120.110.21</td>\n",
       "      <td>1995-07-01 00:00:09</td>\n",
       "      <td>GET</td>\n",
       "      <td>/shuttle/missions/sts-73/mission-sts-73.html H...</td>\n",
       "      <td>200</td>\n",
       "      <td>4085.0</td>\n",
       "      <td>1</td>\n",
       "      <td>(-1646.592, 164659.2]</td>\n",
       "    </tr>\n",
       "    <tr>\n",
       "      <th>3</th>\n",
       "      <td>burger.letters.com</td>\n",
       "      <td>1995-07-01 00:00:11</td>\n",
       "      <td>GET</td>\n",
       "      <td>/shuttle/countdown/liftoff.html HTTP/1.0</td>\n",
       "      <td>304</td>\n",
       "      <td>0.0</td>\n",
       "      <td>1</td>\n",
       "      <td>(-1646.592, 164659.2]</td>\n",
       "    </tr>\n",
       "    <tr>\n",
       "      <th>4</th>\n",
       "      <td>199.120.110.21</td>\n",
       "      <td>1995-07-01 00:00:11</td>\n",
       "      <td>GET</td>\n",
       "      <td>/shuttle/missions/sts-73/sts-73-patch-small.gi...</td>\n",
       "      <td>200</td>\n",
       "      <td>4179.0</td>\n",
       "      <td>1</td>\n",
       "      <td>(-1646.592, 164659.2]</td>\n",
       "    </tr>\n",
       "  </tbody>\n",
       "</table>\n",
       "</div>"
      ],
      "text/plain": [
       "                   host                time request_type  \\\n",
       "0          199.72.81.55 1995-07-01 00:00:01          GET   \n",
       "1  unicomp6.unicomp.net 1995-07-01 00:00:06          GET   \n",
       "2        199.120.110.21 1995-07-01 00:00:09          GET   \n",
       "3    burger.letters.com 1995-07-01 00:00:11          GET   \n",
       "4        199.120.110.21 1995-07-01 00:00:11          GET   \n",
       "\n",
       "                                                 url  response    size  \\\n",
       "0                          /history/apollo/ HTTP/1.0       200  6245.0   \n",
       "1                       /shuttle/countdown/ HTTP/1.0       200  3985.0   \n",
       "2  /shuttle/missions/sts-73/mission-sts-73.html H...       200  4085.0   \n",
       "3           /shuttle/countdown/liftoff.html HTTP/1.0       304     0.0   \n",
       "4  /shuttle/missions/sts-73/sts-73-patch-small.gi...       200  4179.0   \n",
       "\n",
       "   Number              size_bins  \n",
       "0       1  (-1646.592, 164659.2]  \n",
       "1       1  (-1646.592, 164659.2]  \n",
       "2       1  (-1646.592, 164659.2]  \n",
       "3       1  (-1646.592, 164659.2]  \n",
       "4       1  (-1646.592, 164659.2]  "
      ]
     },
     "execution_count": 17,
     "metadata": {},
     "output_type": "execute_result"
    }
   ],
   "source": [
    "data.head(5)"
   ]
  },
  {
   "cell_type": "code",
   "execution_count": 18,
   "id": "7e0dbfee",
   "metadata": {},
   "outputs": [],
   "source": [
    "#Identify the bin which has the maximum count "
   ]
  },
  {
   "cell_type": "code",
   "execution_count": 19,
   "id": "ac6604d3",
   "metadata": {},
   "outputs": [
    {
     "data": {
      "text/plain": [
       "size_bins\n",
       "(-1646.592, 164659.2]     88554\n",
       "(164659.2, 329318.4]       1283\n",
       "(823296.0, 987955.2]        373\n",
       "(493977.6, 658636.8]        205\n",
       "(987955.2, 1152614.4]       173\n",
       "(329318.4, 493977.6]        147\n",
       "(1152614.4, 1317273.6]       34\n",
       "(658636.8, 823296.0]         17\n",
       "(1481932.8, 1646592.0]        2\n",
       "(1317273.6, 1481932.8]        0\n",
       "Name: Number, dtype: int64"
      ]
     },
     "execution_count": 19,
     "metadata": {},
     "output_type": "execute_result"
    }
   ],
   "source": [
    "data.groupby(['size_bins']).sum()['Number'].sort_values(ascending=False)"
   ]
  },
  {
   "cell_type": "markdown",
   "id": "ee1e5f09",
   "metadata": {},
   "source": [
    "# 5.Using `url` column, create a new column `file_type` based on following conditions \n",
    "    If the `url` ends with either `.gif` or `.jpg`, `file_type` will be `image` \n",
    "    If the `url` ends with `.html`, `file_type` will be `html` \n",
    "    Else `file_type` will be `Other` \n",
    "    Identify how many times images were rendered "
   ]
  },
  {
   "cell_type": "code",
   "execution_count": 20,
   "id": "ef2fae2a",
   "metadata": {},
   "outputs": [],
   "source": [
    "url_type = {\".gif\":\"image\",\".jpg\": \"image\",\".html\":\"html\"}\n",
    "\n",
    "def check_ext(x):\n",
    "    for key in url_type:\n",
    "        if key.lower() in x.lower():\n",
    "            return url_type[key]\n",
    "    return 'Other'\n",
    "\n",
    "data[\"file_type\"] = data[\"url\"].map(lambda x: check_ext(x))"
   ]
  },
  {
   "cell_type": "code",
   "execution_count": 21,
   "id": "e434d37d",
   "metadata": {},
   "outputs": [
    {
     "data": {
      "text/html": [
       "<div>\n",
       "<style scoped>\n",
       "    .dataframe tbody tr th:only-of-type {\n",
       "        vertical-align: middle;\n",
       "    }\n",
       "\n",
       "    .dataframe tbody tr th {\n",
       "        vertical-align: top;\n",
       "    }\n",
       "\n",
       "    .dataframe thead th {\n",
       "        text-align: right;\n",
       "    }\n",
       "</style>\n",
       "<table border=\"1\" class=\"dataframe\">\n",
       "  <thead>\n",
       "    <tr style=\"text-align: right;\">\n",
       "      <th></th>\n",
       "      <th>host</th>\n",
       "      <th>time</th>\n",
       "      <th>request_type</th>\n",
       "      <th>url</th>\n",
       "      <th>response</th>\n",
       "      <th>size</th>\n",
       "      <th>Number</th>\n",
       "      <th>size_bins</th>\n",
       "      <th>file_type</th>\n",
       "    </tr>\n",
       "  </thead>\n",
       "  <tbody>\n",
       "    <tr>\n",
       "      <th>0</th>\n",
       "      <td>199.72.81.55</td>\n",
       "      <td>1995-07-01 00:00:01</td>\n",
       "      <td>GET</td>\n",
       "      <td>/history/apollo/ HTTP/1.0</td>\n",
       "      <td>200</td>\n",
       "      <td>6245.0</td>\n",
       "      <td>1</td>\n",
       "      <td>(-1646.592, 164659.2]</td>\n",
       "      <td>Other</td>\n",
       "    </tr>\n",
       "    <tr>\n",
       "      <th>1</th>\n",
       "      <td>unicomp6.unicomp.net</td>\n",
       "      <td>1995-07-01 00:00:06</td>\n",
       "      <td>GET</td>\n",
       "      <td>/shuttle/countdown/ HTTP/1.0</td>\n",
       "      <td>200</td>\n",
       "      <td>3985.0</td>\n",
       "      <td>1</td>\n",
       "      <td>(-1646.592, 164659.2]</td>\n",
       "      <td>Other</td>\n",
       "    </tr>\n",
       "    <tr>\n",
       "      <th>2</th>\n",
       "      <td>199.120.110.21</td>\n",
       "      <td>1995-07-01 00:00:09</td>\n",
       "      <td>GET</td>\n",
       "      <td>/shuttle/missions/sts-73/mission-sts-73.html H...</td>\n",
       "      <td>200</td>\n",
       "      <td>4085.0</td>\n",
       "      <td>1</td>\n",
       "      <td>(-1646.592, 164659.2]</td>\n",
       "      <td>html</td>\n",
       "    </tr>\n",
       "    <tr>\n",
       "      <th>3</th>\n",
       "      <td>burger.letters.com</td>\n",
       "      <td>1995-07-01 00:00:11</td>\n",
       "      <td>GET</td>\n",
       "      <td>/shuttle/countdown/liftoff.html HTTP/1.0</td>\n",
       "      <td>304</td>\n",
       "      <td>0.0</td>\n",
       "      <td>1</td>\n",
       "      <td>(-1646.592, 164659.2]</td>\n",
       "      <td>html</td>\n",
       "    </tr>\n",
       "    <tr>\n",
       "      <th>4</th>\n",
       "      <td>199.120.110.21</td>\n",
       "      <td>1995-07-01 00:00:11</td>\n",
       "      <td>GET</td>\n",
       "      <td>/shuttle/missions/sts-73/sts-73-patch-small.gi...</td>\n",
       "      <td>200</td>\n",
       "      <td>4179.0</td>\n",
       "      <td>1</td>\n",
       "      <td>(-1646.592, 164659.2]</td>\n",
       "      <td>image</td>\n",
       "    </tr>\n",
       "  </tbody>\n",
       "</table>\n",
       "</div>"
      ],
      "text/plain": [
       "                   host                time request_type  \\\n",
       "0          199.72.81.55 1995-07-01 00:00:01          GET   \n",
       "1  unicomp6.unicomp.net 1995-07-01 00:00:06          GET   \n",
       "2        199.120.110.21 1995-07-01 00:00:09          GET   \n",
       "3    burger.letters.com 1995-07-01 00:00:11          GET   \n",
       "4        199.120.110.21 1995-07-01 00:00:11          GET   \n",
       "\n",
       "                                                 url  response    size  \\\n",
       "0                          /history/apollo/ HTTP/1.0       200  6245.0   \n",
       "1                       /shuttle/countdown/ HTTP/1.0       200  3985.0   \n",
       "2  /shuttle/missions/sts-73/mission-sts-73.html H...       200  4085.0   \n",
       "3           /shuttle/countdown/liftoff.html HTTP/1.0       304     0.0   \n",
       "4  /shuttle/missions/sts-73/sts-73-patch-small.gi...       200  4179.0   \n",
       "\n",
       "   Number              size_bins file_type  \n",
       "0       1  (-1646.592, 164659.2]     Other  \n",
       "1       1  (-1646.592, 164659.2]     Other  \n",
       "2       1  (-1646.592, 164659.2]      html  \n",
       "3       1  (-1646.592, 164659.2]      html  \n",
       "4       1  (-1646.592, 164659.2]     image  "
      ]
     },
     "execution_count": 21,
     "metadata": {},
     "output_type": "execute_result"
    }
   ],
   "source": [
    "data.head(5)"
   ]
  },
  {
   "cell_type": "code",
   "execution_count": 22,
   "id": "fcff0da1",
   "metadata": {},
   "outputs": [
    {
     "data": {
      "text/plain": [
       "50704"
      ]
     },
     "execution_count": 22,
     "metadata": {},
     "output_type": "execute_result"
    }
   ],
   "source": [
    "data[data['file_type']=='image']['Number'].sum()"
   ]
  },
  {
   "cell_type": "code",
   "execution_count": null,
   "id": "ddaaadf9",
   "metadata": {},
   "outputs": [],
   "source": []
  }
 ],
 "metadata": {
  "kernelspec": {
   "display_name": "Python 3",
   "language": "python",
   "name": "python3"
  },
  "language_info": {
   "codemirror_mode": {
    "name": "ipython",
    "version": 3
   },
   "file_extension": ".py",
   "mimetype": "text/x-python",
   "name": "python",
   "nbconvert_exporter": "python",
   "pygments_lexer": "ipython3",
   "version": "3.8.8"
  }
 },
 "nbformat": 4,
 "nbformat_minor": 5
}
