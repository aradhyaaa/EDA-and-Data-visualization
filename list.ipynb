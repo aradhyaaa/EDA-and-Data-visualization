{
 "cells": [
  {
   "cell_type": "code",
   "execution_count": 2,
   "metadata": {},
   "outputs": [
    {
     "name": "stdout",
     "output_type": "stream",
     "text": [
      "<class 'list'>\n",
      "[25, 23, 3, 59, 64]\n",
      "<class 'list'>\n",
      "['abcd', 5, True, 6.4, ['abcd', 5, True, 6.4]]\n"
     ]
    }
   ],
   "source": [
    "#list - ordered and mutable(can be updated later) defined using square bracket all values seprated using a ,\n",
    "age = [25,23,3,59,64]\n",
    "print(type(age))\n",
    "print(age)\n",
    "\n",
    "#can hold anything\n",
    "details = ['abcd',5,True,6.4,['abcd',5,True,6.4]]\n",
    "print(type(details))\n",
    "print(details)"
   ]
  },
  {
   "cell_type": "code",
   "execution_count": 3,
   "metadata": {},
   "outputs": [
    {
     "name": "stdout",
     "output_type": "stream",
     "text": [
      "1st element 25\n",
      "last element 64\n"
     ]
    }
   ],
   "source": [
    "#indexing\n",
    "len(age)\n",
    "print('1st element',age[0])\n",
    "print('last element',age[-1])"
   ]
  },
  {
   "cell_type": "code",
   "execution_count": 4,
   "metadata": {},
   "outputs": [
    {
     "name": "stdout",
     "output_type": "stream",
     "text": [
      "[25, 23, 3]\n",
      "[3, 59]\n"
     ]
    }
   ],
   "source": [
    "#slicing\n",
    "len(age)\n",
    "print(age[0:3])\n",
    "print(age[-3:-1])"
   ]
  },
  {
   "cell_type": "code",
   "execution_count": 5,
   "metadata": {},
   "outputs": [
    {
     "name": "stdout",
     "output_type": "stream",
     "text": [
      "Original list [25, 23, 3, 59, 64]\n",
      "Updated list [10, 23, 3, 59, 64]\n"
     ]
    }
   ],
   "source": [
    "print(\"Original list\",age)\n",
    "\n",
    "age[0]=10\n",
    "\n",
    "print(\"Updated list\",age)"
   ]
  },
  {
   "cell_type": "code",
   "execution_count": 10,
   "metadata": {},
   "outputs": [
    {
     "data": {
      "text/plain": [
       "[2, 6, 8, 10]"
      ]
     },
     "execution_count": 10,
     "metadata": {},
     "output_type": "execute_result"
    }
   ],
   "source": [
    "a = [2,4,6,8,10]\n",
    "#append-add no\n",
    "a.append(12)\n",
    "a\n",
    "#remove-indexing\n",
    "a.pop(1)\n",
    "a\n",
    "#empty pop remove last \n",
    "a.pop()\n",
    "a"
   ]
  },
  {
   "cell_type": "code",
   "execution_count": 14,
   "metadata": {},
   "outputs": [
    {
     "name": "stdout",
     "output_type": "stream",
     "text": [
      "[1, 2, 3, 4, 5, [6, 7, 8, 9, 10]]\n",
      "[6, 7, 8, 9, 10, 11, 12, 13, 14, 15]\n"
     ]
    }
   ],
   "source": [
    "q = [1,2,3,4,5]\n",
    "e = [11,12,13,14,15]\n",
    "w = [6,7,8,9,10]\n",
    "q.append(w)\n",
    "print(q)\n",
    "\n",
    "w.extend(e)\n",
    "print(w)"
   ]
  },
  {
   "cell_type": "code",
   "execution_count": null,
   "metadata": {},
   "outputs": [],
   "source": []
  }
 ],
 "metadata": {
  "kernelspec": {
   "display_name": "Python 3",
   "language": "python",
   "name": "python3"
  },
  "language_info": {
   "codemirror_mode": {
    "name": "ipython",
    "version": 3
   },
   "file_extension": ".py",
   "mimetype": "text/x-python",
   "name": "python",
   "nbconvert_exporter": "python",
   "pygments_lexer": "ipython3",
   "version": "3.11.4"
  }
 },
 "nbformat": 4,
 "nbformat_minor": 2
}
