{
 "cells": [
  {
   "cell_type": "code",
   "execution_count": 2,
   "metadata": {},
   "outputs": [
    {
     "name": "stdout",
     "output_type": "stream",
     "text": [
      "{'a': '1', 'b': '2', 'c': '3'}\n",
      "dict_keys(['a', 'b', 'c'])\n",
      "dict_values(['1', '2', '3'])\n"
     ]
    }
   ],
   "source": [
    "#Dictionary work in the form of key pairs are mutable and indexed\n",
    "a = {\"a\":\"1\",\"b\":\"2\",\"c\":\"3\"}\n",
    "print(a)\n",
    "print(a.keys())\n",
    "print(a.values())"
   ]
  },
  {
   "cell_type": "code",
   "execution_count": 4,
   "metadata": {},
   "outputs": [
    {
     "name": "stdout",
     "output_type": "stream",
     "text": [
      "{'a': '1', 'b': '2', 'c': '3', 'd': '4'}\n",
      "{'b': '2', 'c': '3', 'd': '4'}\n"
     ]
    }
   ],
   "source": [
    "#add\n",
    "a[\"d\"] = \"4\"\n",
    "print(a)\n",
    "#remove - pop\n",
    "a.pop(\"a\")\n",
    "print(a)"
   ]
  },
  {
   "cell_type": "code",
   "execution_count": null,
   "metadata": {},
   "outputs": [],
   "source": []
  }
 ],
 "metadata": {
  "kernelspec": {
   "display_name": "Python 3",
   "language": "python",
   "name": "python3"
  },
  "language_info": {
   "codemirror_mode": {
    "name": "ipython",
    "version": 3
   },
   "file_extension": ".py",
   "mimetype": "text/x-python",
   "name": "python",
   "nbconvert_exporter": "python",
   "pygments_lexer": "ipython3",
   "version": "3.11.4"
  }
 },
 "nbformat": 4,
 "nbformat_minor": 2
}
